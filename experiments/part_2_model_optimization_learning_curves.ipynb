{
 "cells": [
  {
   "cell_type": "code",
   "execution_count": null,
   "id": "43c63e4c-8a97-4633-a240-4d298aa160d4",
   "metadata": {
    "tags": []
   },
   "outputs": [],
   "source": [
    "import os\n",
    "import sys\n",
    "module_path = os.path.abspath(os.path.join('..'))\n",
    "module_path = \"~/github/qhack_2023/\"\n",
    "if module_path not in sys.path:\n",
    "    sys.path.append(module_path)"
   ]
  },
  {
   "cell_type": "code",
   "execution_count": null,
   "id": "76bd2932-ee55-48ad-9629-dc3839f0781a",
   "metadata": {},
   "outputs": [],
   "source": [
    "import os\n",
    "\n",
    "import gym\n",
    "import numpy as np\n",
    "import matplotlib.pyplot as plt\n",
    "\n",
    "from stable_baselines3 import DQN, PPO\n",
    "from stable_baselines3.common.monitor import Monitor\n",
    "from stable_baselines3.common import results_plotter\n",
    "from stable_baselines3.common.results_plotter import load_results, ts2xy\n",
    "\n",
    "\n",
    "from algorithms.monitor_callback import SaveOnBestTrainingRewardCallback\n",
    "from experiments.learning_curve import moving_average, plot_results"
   ]
  },
  {
   "cell_type": "code",
   "execution_count": null,
   "id": "1c1501e9-5bc1-4bc4-96c8-16cc69740425",
   "metadata": {},
   "outputs": [],
   "source": [
    "# picking the winning parameters\n",
    "\n",
    "# model_parameters = {\n",
    "#     'learning_rate': 0.7,\n",
    "#     'learning_starts': 50_000,\n",
    "#     'gamma': 0.99,\n",
    "#     'max_grad_norm': 10\n",
    "# }\n",
    "# model_parameters = {\n",
    "#     'learning_rate': 2.1114943100278494e-05, \n",
    "#     'n_steps': 2**8, \n",
    "#     'gamma': 0.00035659217767805687\n",
    "# }\n",
    "model_parameters = {}\n",
    "\n",
    "# MODEL = DQN\n",
    "MODEL = PPO\n",
    "\n",
    "algo = \"PPO\"\n",
    "environment = \"Mountain Car\""
   ]
  },
  {
   "cell_type": "code",
   "execution_count": null,
   "id": "32d777e1-9de6-4059-af7f-bdc5eb57c6b9",
   "metadata": {},
   "outputs": [],
   "source": [
    "ENV_ID = \"FrozenLake-v1\"\n",
    "#ENV_ID = \"MountainCar-v0\"\n",
    "\n",
    "# Create log dir\n",
    "log_dir = \"/tmp/gym/\"\n",
    "os.makedirs(log_dir, exist_ok=True)\n",
    "\n",
    "# Create and wrap the environment\n",
    "env = gym.make(ENV_ID)\n",
    "# Logs will be saved in log_dir/monitor.csv\n",
    "env = Monitor(env, log_dir)"
   ]
  },
  {
   "cell_type": "code",
   "execution_count": null,
   "id": "2105d488-7446-43ef-8aac-c587a92d93c1",
   "metadata": {
    "tags": []
   },
   "outputs": [],
   "source": [
    "# Create the callback: check every 1000 steps\n",
    "callback = SaveOnBestTrainingRewardCallback(check_freq=1000, log_dir=log_dir)\n",
    "# Create RL model\n",
    "model = MODEL(\"MlpPolicy\", env, **model_parameters)\n",
    "# Train the agent\n",
    "model.learn(total_timesteps=int(1e7), callback=callback)"
   ]
  },
  {
   "cell_type": "code",
   "execution_count": null,
   "id": "23ff3078-70b0-4c7b-8cb1-af37f4a9db65",
   "metadata": {
    "tags": []
   },
   "outputs": [],
   "source": [
    "# Helper from the library\n",
    "results_plotter.plot_results([log_dir], 1e5, results_plotter.X_TIMESTEPS, f\"{algo} {environment}\")"
   ]
  },
  {
   "cell_type": "code",
   "execution_count": null,
   "id": "311c3fff-b79d-4882-a56c-be66603181ff",
   "metadata": {
    "tags": []
   },
   "outputs": [],
   "source": [
    "from stable_baselines3.common.evaluation import evaluate_policy\n",
    "\n",
    "eval_env = gym.make(ENV_ID)\n",
    "evaluate_policy(model, eval_env, 200, True)"
   ]
  },
  {
   "cell_type": "code",
   "execution_count": null,
   "id": "0b9fe5c6-dbae-4779-b50a-e71784a64373",
   "metadata": {
    "tags": []
   },
   "outputs": [],
   "source": [
    "plot_results(\n",
    "    log_dir,\n",
    "    title=f\"{alog} {environment} Learning Curve Smoothed\",\n",
    "    path_save=f\"../images/{algo.lower()}_learning_curve_{environemnt.lower().replace(\" \", \"_\")}.png\"\n",
    ")"
   ]
  },
  {
   "cell_type": "code",
   "execution_count": null,
   "id": "37c9fa87-222d-4647-a145-82949e24a6a5",
   "metadata": {
    "tags": []
   },
   "outputs": [],
   "source": []
  },
  {
   "cell_type": "code",
   "execution_count": null,
   "id": "d7912da3-825f-44dd-b216-5c211c5732c3",
   "metadata": {
    "tags": []
   },
   "outputs": [],
   "source": [
    "import gym\n",
    "\n",
    "from stable_baselines3.common.vec_env import DummyVecEnv\n",
    "from stable_baselines3.common.env_util import make_vec_env\n",
    "from huggingface_sb3 import package_to_hub\n",
    "\n",
    "## Define a repo_id\n",
    "model_name = f\"{algo.lower()}-{env_id}\"\n",
    "repo_id = f\"{username}/{algo.lower()}-{env_id}\"\n",
    "\n",
    "commit_message = f\"Upload trained {algo} {environment}\"\n",
    "\n",
    "# Create the evaluation env\n",
    "eval_env = DummyVecEnv([lambda: gym.make(env_id)])\n",
    "\n",
    "# PLACE the package_to_hub function you've just filled here\n",
    "package_to_hub(model=model, # Our trained model\n",
    "               model_name=model_name, # The name of our trained model \n",
    "               model_architecture=algo, # The model architecture we used: in our case PPO\n",
    "               env_id=ENV_ID, # Name of the environment\n",
    "               eval_env=eval_env, # Evaluation Environment\n",
    "               repo_id=repo_id, # id of the model repository from the Hugging Face Hub (repo_id = {organization}/{repo_name} for instance ThomasSimonini/ppo-LunarLander-v2\n",
    "               commit_message=commit_message)\n"
   ]
  },
  {
   "cell_type": "code",
   "execution_count": null,
   "id": "7ca21572-d2cd-4555-84f3-9f93fdff9005",
   "metadata": {},
   "outputs": [],
   "source": []
  }
 ],
 "metadata": {
  "kernelspec": {
   "display_name": "Python 3 (ipykernel)",
   "language": "python",
   "name": "python3"
  },
  "language_info": {
   "codemirror_mode": {
    "name": "ipython",
    "version": 3
   },
   "file_extension": ".py",
   "mimetype": "text/x-python",
   "name": "python",
   "nbconvert_exporter": "python",
   "pygments_lexer": "ipython3",
   "version": "3.9.7"
  }
 },
 "nbformat": 4,
 "nbformat_minor": 5
}
